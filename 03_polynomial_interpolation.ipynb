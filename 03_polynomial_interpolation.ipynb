{
 "cells": [
  {
   "cell_type": "code",
   "execution_count": 1,
   "metadata": {},
   "outputs": [],
   "source": [
    "import numpy as np\n",
    "import scipy.linalg as la\n",
    "import matplotlib.pyplot as plt"
   ]
  },
  {
   "cell_type": "markdown",
   "metadata": {},
   "source": [
    "# Polynomial Interpolation"
   ]
  },
  {
   "cell_type": "markdown",
   "metadata": {},
   "source": [
    "Given $d+1$ data points $(t_0,y_0), \\dots , (t_d,y_d)$ there exists a unique polynomial of degree $d$\n",
    "\n",
    "$$\n",
    "p(t) = c_0 + c_1 t + \\cdots + c_d t^d\n",
    "$$\n",
    "\n",
    "such that $p(t_k) = y_k$ for each $k=0,\\dots,d$. The coefficients $c_k$ are unknown and each data point gives us an equation\n",
    "\n",
    "\\begin{align*}\n",
    "c_0 + c_1t_1 + \\cdots + c_d t_1^d &= y_1 \\\\\n",
    "c_0 + c_1t_2 + \\cdots + c_d t_2^d &= y_2 \\\\\n",
    "& \\vdots \\\\\n",
    "c_0 + c_1t_d + \\cdots + c_d t_d^d &= y_d\n",
    "\\end{align*}\n",
    "\n",
    "This yields a system of equations $A \\boldsymbol{c} = \\boldsymbol{y}$\n",
    "$$\n",
    "\\begin{bmatrix}\n",
    "1 & t_1 & \\cdots & t_1^d \\\\\n",
    "1 & t_2 & \\cdots & t_2^d \\\\\n",
    "\\vdots & \\vdots & \\ddots & \\vdots \\\\\n",
    " 1 & t_d & \\cdots & t_d^d\n",
    "\\end{bmatrix}\n",
    "\\begin{bmatrix} c_0 \\\\ c_1 \\\\ \\vdots \\\\ c_d \\end{bmatrix}\n",
    "=\n",
    "\\begin{bmatrix} y_0 \\\\ y_1 \\\\ \\vdots \\\\ y_d \\end{bmatrix}\n",
    "$$\n",
    "The matrix $A$ is called a [Vandermonde matrix](https://en.wikipedia.org/wiki/Vandermonde_matrix)."
   ]
  },
  {
   "cell_type": "markdown",
   "metadata": {},
   "source": [
    "## Example 1\n",
    "\n",
    "Start with data points for which we know the solution. Consider $(-1,1),(0,0),(1,1)$. The parabola $p(t) = t^2$ is the unique polynomial which interpolates these points. Let's create the system using [`numpy.vander`](https://numpy.org/doc/stable/reference/generated/numpy.vander.html) and solve with [`scipy.linalg.solve`](https://docs.scipy.org/doc/scipy/reference/generated/scipy.linalg.solve.html)."
   ]
  },
  {
   "cell_type": "code",
   "execution_count": 2,
   "metadata": {},
   "outputs": [],
   "source": [
    "t = np.array([-1,0,1])\n",
    "y = np.array([1,0,1])\n",
    "A = np.vander(t,increasing=True)"
   ]
  },
  {
   "cell_type": "code",
   "execution_count": 3,
   "metadata": {},
   "outputs": [
    {
     "name": "stdout",
     "output_type": "stream",
     "text": [
      "[[ 1 -1  1]\n",
      " [ 1  0  0]\n",
      " [ 1  1  1]]\n"
     ]
    }
   ],
   "source": [
    "print(A)"
   ]
  },
  {
   "cell_type": "code",
   "execution_count": 4,
   "metadata": {},
   "outputs": [],
   "source": [
    "c = la.solve(A,y)"
   ]
  },
  {
   "cell_type": "code",
   "execution_count": 5,
   "metadata": {},
   "outputs": [
    {
     "name": "stdout",
     "output_type": "stream",
     "text": [
      "[0. 0. 1.]\n"
     ]
    }
   ],
   "source": [
    "print(c)"
   ]
  },
  {
   "cell_type": "markdown",
   "metadata": {},
   "source": [
    "The solution corresponds to the coefficients $c_0=0$, $c_1=0$ and $c_2=1$. That is $p(t) = t^2$."
   ]
  },
  {
   "cell_type": "markdown",
   "metadata": {},
   "source": [
    "## Example 2\n",
    "\n",
    "Let's try a cubic polyniomial which interpolates $(0,0),(1,1),(2,0),(3,0)$."
   ]
  },
  {
   "cell_type": "code",
   "execution_count": 6,
   "metadata": {},
   "outputs": [
    {
     "name": "stdout",
     "output_type": "stream",
     "text": [
      "[ 0.   3.  -2.5  0.5]\n"
     ]
    }
   ],
   "source": [
    "t = np.array([0,1,2,3])\n",
    "y = np.array([0,1,0,0])\n",
    "A = np.vander(t,increasing=True)\n",
    "c = la.solve(A,y)\n",
    "print(c)"
   ]
  },
  {
   "cell_type": "code",
   "execution_count": 7,
   "metadata": {},
   "outputs": [
    {
     "data": {
      "image/png": "[encoded data removed]",
      "text/plain": [
       "<Figure size 432x288 with 1 Axes>"
      ]
     },
     "metadata": {
      "needs_background": "light"
     },
     "output_type": "display_data"
    }
   ],
   "source": [
    "T = np.linspace(-1,4,100)\n",
    "Y = c[0] + c[1]*T + c[2]*T**2 + c[3]*T**3\n",
    "plt.plot(T,Y,'b-',t,y,'r.',markersize=10)\n",
    "plt.grid(True)\n",
    "plt.show()"
   ]
  },
  {
   "cell_type": "markdown",
   "metadata": {},
   "source": [
    "## Example 3\n",
    "\n",
    "What happens to the condition number as $N$ increases when $t_0,t_1,\\dots,t_N$ are $N+1$ equally spaced points from 0 to 1? That is, $t_k = k/N$, $k=0,\\dots,N$."
   ]
  },
  {
   "cell_type": "code",
   "execution_count": 8,
   "metadata": {},
   "outputs": [
    {
     "data": {
      "image/png": "[encoded data removed]",
      "text/plain": [
       "<Figure size 576x360 with 1 Axes>"
      ]
     },
     "metadata": {
      "needs_background": "light"
     },
     "output_type": "display_data"
    }
   ],
   "source": [
    "C = []\n",
    "Nmax = 11\n",
    "for N in range(2,Nmax):\n",
    "    t = np.linspace(0,1,N+1)\n",
    "    A = np.vander(t)\n",
    "    c = np.linalg.cond(A)\n",
    "    C.append(c)\n",
    "plt.figure(figsize=(8,5))\n",
    "plt.plot(range(2,Nmax),C,'b.-',markersize=10)\n",
    "plt.title('Condition Number of Vandermonde matrix of size N+1')\n",
    "plt.grid(True)\n",
    "plt.xlabel('N')\n",
    "plt.show()"
   ]
  },
  {
   "cell_type": "code",
   "execution_count": 9,
   "metadata": {},
   "outputs": [
    {
     "data": {
      "text/plain": [
       "115575244.52774188"
      ]
     },
     "execution_count": 9,
     "metadata": {},
     "output_type": "execute_result"
    }
   ],
   "source": [
    "C[-1]"
   ]
  },
  {
   "cell_type": "markdown",
   "metadata": {},
   "source": [
    "The condition number for $N=10$ is around $10^8$. Yikes!"
   ]
  },
  {
   "cell_type": "markdown",
   "metadata": {},
   "source": [
    "## Example 4\n",
    "\n",
    "Let's interpolate the points $\\sin(\\pi t_k)$ for $t_k = k/N$ for $N=15$."
   ]
  },
  {
   "cell_type": "code",
   "execution_count": 10,
   "metadata": {},
   "outputs": [
    {
     "data": {
      "image/png": "[encoded data removed]",
      "text/plain": [
       "<Figure size 432x288 with 1 Axes>"
      ]
     },
     "metadata": {
      "needs_background": "light"
     },
     "output_type": "display_data"
    }
   ],
   "source": [
    "N = 15\n",
    "t = np.linspace(0,1,N+1)\n",
    "y = np.sin(np.pi*t)\n",
    "A = np.vander(t,increasing=True)\n",
    "c = la.solve(A,y)\n",
    "T = np.linspace(0,1,100)\n",
    "Y = sum([c[k]*T**k for k in range(0,len(c))])\n",
    "plt.plot(T,Y,'b-',t,y,'r.',markersize=10)\n",
    "plt.grid(True)\n",
    "plt.show()"
   ]
  },
  {
   "cell_type": "markdown",
   "metadata": {},
   "source": [
    "The interpolating polynomial is very nice! But what happens if we introduce some random noise in the data."
   ]
  },
  {
   "cell_type": "code",
   "execution_count": 11,
   "metadata": {},
   "outputs": [
    {
     "data": {
      "image/png": "[encoded data removed]",
      "text/plain": [
       "<Figure size 432x288 with 1 Axes>"
      ]
     },
     "metadata": {
      "needs_background": "light"
     },
     "output_type": "display_data"
    }
   ],
   "source": [
    "N = 15\n",
    "t = np.linspace(0,1,N+1)\n",
    "noise = 0.005*np.random.randn(t.size)\n",
    "y = np.sin(np.pi*t) + noise\n",
    "A = np.vander(t,increasing=True)\n",
    "c = la.solve(A,y)\n",
    "T = np.linspace(0,1,200)\n",
    "Y = sum([c[k]*T**k for k in range(0,len(c))])\n",
    "plt.plot(T,Y,'b-',t,y,'r.',markersize=10)\n",
    "plt.grid(True)\n",
    "plt.show()"
   ]
  },
  {
   "cell_type": "markdown",
   "metadata": {},
   "source": [
    "Yikes! The interpolating polynomial is very sensitive to small changes in the $y$ values! That's because the condition number is large!"
   ]
  }
 ],
 "metadata": {
  "kernelspec": {
   "display_name": "Python 3",
   "language": "python",
   "name": "python3"
  },
  "language_info": {
   "codemirror_mode": {
    "name": "ipython",
    "version": 3
   },
   "file_extension": ".py",
   "mimetype": "text/x-python",
   "name": "python",
   "nbconvert_exporter": "python",
   "pygments_lexer": "ipython3",
   "version": "3.7.6"
  }
 },
 "nbformat": 4,
 "nbformat_minor": 4
}
