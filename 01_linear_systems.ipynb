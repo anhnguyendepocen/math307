{
 "cells": [
  {
   "cell_type": "code",
   "execution_count": 1,
   "metadata": {},
   "outputs": [],
   "source": [
    "import numpy as np\n",
    "import scipy.linalg as la\n",
    "import matplotlib.pyplot as plt"
   ]
  },
  {
   "cell_type": "markdown",
   "metadata": {},
   "source": [
    "# Linear Systems of Equations"
   ]
  },
  {
   "cell_type": "markdown",
   "metadata": {},
   "source": [
    "Solve linear systems of equations $A \\mathbf{x} = \\mathbf{b}$:\n",
    "\n",
    "* Create NumPy arrays to represent $A$ and $\\mathbf{b}$\n",
    "* Compute the solution $\\boldsymbol{x}$ using the SciPy function `scipy.linalg.solve`\n",
    "\n",
    "[Learn about NumPy arrays](https://www.math.ubc.ca/~pwalls/math-python/scipy/numpy/) and the [SciPy Linear Algebra package](https://www.math.ubc.ca/~pwalls/math-python/linear-algebra/linear-algebra-scipy/)."
   ]
  },
  {
   "cell_type": "markdown",
   "metadata": {},
   "source": [
    "## Example 1\n",
    "\n",
    "Compute the solution of the system $A \\mathbf{x} = \\mathbf{b}$ where\n",
    "$$\n",
    "A = \\begin{bmatrix} 2 & 1 & 1 \\\\ 2 & 0 & 2 \\\\ 4 & 3 & 4 \\end{bmatrix}\n",
    "\\hspace{10mm}\n",
    "\\mathbf{b} = \\left[ \\begin{array}{r} -1 \\\\ 1 \\\\ 1 \\end{array} \\right]\n",
    "$$"
   ]
  },
  {
   "cell_type": "code",
   "execution_count": 2,
   "metadata": {},
   "outputs": [],
   "source": [
    "A = np.array([[2,1,1],[2,0,2],[4,3,4]])\n",
    "b = np.array([[-1],[1],[1]])"
   ]
  },
  {
   "cell_type": "code",
   "execution_count": 3,
   "metadata": {},
   "outputs": [
    {
     "name": "stdout",
     "output_type": "stream",
     "text": [
      "[[2 1 1]\n",
      " [2 0 2]\n",
      " [4 3 4]]\n"
     ]
    }
   ],
   "source": [
    "print(A)"
   ]
  },
  {
   "cell_type": "code",
   "execution_count": 4,
   "metadata": {},
   "outputs": [
    {
     "name": "stdout",
     "output_type": "stream",
     "text": [
      "[[-1]\n",
      " [ 1]\n",
      " [ 1]]\n"
     ]
    }
   ],
   "source": [
    "print(b)"
   ]
  },
  {
   "cell_type": "code",
   "execution_count": 5,
   "metadata": {},
   "outputs": [],
   "source": [
    "x = la.solve(A,b)"
   ]
  },
  {
   "cell_type": "code",
   "execution_count": 6,
   "metadata": {},
   "outputs": [
    {
     "name": "stdout",
     "output_type": "stream",
     "text": [
      "[[-1.16666667]\n",
      " [-0.33333333]\n",
      " [ 1.66666667]]\n"
     ]
    }
   ],
   "source": [
    "print(x)"
   ]
  },
  {
   "cell_type": "markdown",
   "metadata": {},
   "source": [
    "Due to rounding errors in the computation, our solution $\\hat{\\mathbf{x}}$ is an approximation of the exact solution $$\n",
    "\\mathbf{x} = \\left[ \\begin{array}{r} -7/6 \\\\-1/3 \\\\ 5/3 \\end{array} \\right]\n",
    "$$\n",
    "Compute the norm of the residual $\\| \\mathbf{b} - A \\mathbf{x} \\|$"
   ]
  },
  {
   "cell_type": "code",
   "execution_count": 7,
   "metadata": {},
   "outputs": [],
   "source": [
    "r = la.norm(b - A @ x)"
   ]
  },
  {
   "cell_type": "code",
   "execution_count": 8,
   "metadata": {},
   "outputs": [
    {
     "name": "stdout",
     "output_type": "stream",
     "text": [
      "0.0\n"
     ]
    }
   ],
   "source": [
    "print(r)"
   ]
  },
  {
   "cell_type": "markdown",
   "metadata": {},
   "source": [
    "## Example 2\n",
    "\n",
    "Compute the solution of the system $A \\mathbf{x} = \\mathbf{b}$ for\n",
    "$$\n",
    "A = \n",
    "\\left[\n",
    "\\begin{array}{cccccccc}\n",
    "2R & -R & 0 & 0 & \\cdots & 0 & 0 & 0 \\\\\n",
    "-R & 2R & -R & 0 & & 0 & 0  & 0 \\\\\n",
    "0 & -R & 2R & -R & \\cdots & 0 & 0 & 0 \\\\\n",
    "\\vdots &  & \\vdots &  & \\ddots & & \\vdots & \\\\\n",
    "0 & 0 & 0 & 0 & \\cdots & -R & 2R & -R \\\\\n",
    "0 & 0 & 0 & 0 & \\cdots & 0 & -R & 2R \\\\\n",
    "\\end{array}\n",
    "\\right]\n",
    "\\hspace{10mm}\n",
    "\\mathbf{b} = \\left[ \\begin{array}{r} V \\\\ \\vdots \\\\ V \\end{array} \\right]\n",
    "$$\n",
    "where $A$ is a square matrix of size $N$, and $R$ and $V$ are some positive constants."
   ]
  },
  {
   "cell_type": "code",
   "execution_count": 9,
   "metadata": {},
   "outputs": [],
   "source": [
    "N = 10\n",
    "R = 1\n",
    "V = 1\n",
    "A1 = 2*R*np.eye(N)\n",
    "A2 = np.diag(-R*np.ones(N-1),1)\n",
    "A = A1 + A2 + A2.T\n",
    "b = V*np.ones([N,1])"
   ]
  },
  {
   "cell_type": "code",
   "execution_count": 10,
   "metadata": {},
   "outputs": [
    {
     "name": "stdout",
     "output_type": "stream",
     "text": [
      "[[ 2. -1.  0.  0.  0.  0.  0.  0.  0.  0.]\n",
      " [-1.  2. -1.  0.  0.  0.  0.  0.  0.  0.]\n",
      " [ 0. -1.  2. -1.  0.  0.  0.  0.  0.  0.]\n",
      " [ 0.  0. -1.  2. -1.  0.  0.  0.  0.  0.]\n",
      " [ 0.  0.  0. -1.  2. -1.  0.  0.  0.  0.]\n",
      " [ 0.  0.  0.  0. -1.  2. -1.  0.  0.  0.]\n",
      " [ 0.  0.  0.  0.  0. -1.  2. -1.  0.  0.]\n",
      " [ 0.  0.  0.  0.  0.  0. -1.  2. -1.  0.]\n",
      " [ 0.  0.  0.  0.  0.  0.  0. -1.  2. -1.]\n",
      " [ 0.  0.  0.  0.  0.  0.  0.  0. -1.  2.]]\n"
     ]
    }
   ],
   "source": [
    "print(A)"
   ]
  },
  {
   "cell_type": "code",
   "execution_count": 11,
   "metadata": {},
   "outputs": [
    {
     "name": "stdout",
     "output_type": "stream",
     "text": [
      "[[1.]\n",
      " [1.]\n",
      " [1.]\n",
      " [1.]\n",
      " [1.]\n",
      " [1.]\n",
      " [1.]\n",
      " [1.]\n",
      " [1.]\n",
      " [1.]]\n"
     ]
    }
   ],
   "source": [
    "print(b)"
   ]
  },
  {
   "cell_type": "code",
   "execution_count": 12,
   "metadata": {},
   "outputs": [],
   "source": [
    "x = la.solve(A,b)"
   ]
  },
  {
   "cell_type": "code",
   "execution_count": 13,
   "metadata": {},
   "outputs": [
    {
     "data": {
      "image/png": "[encoded data removed]",
      "text/plain": [
       "<Figure size 432x288 with 1 Axes>"
      ]
     },
     "metadata": {
      "needs_background": "light"
     },
     "output_type": "display_data"
    }
   ],
   "source": [
    "plt.plot(x,'b.')\n",
    "plt.show()"
   ]
  }
 ],
 "metadata": {
  "kernelspec": {
   "display_name": "Python 3",
   "language": "python",
   "name": "python3"
  },
  "language_info": {
   "codemirror_mode": {
    "name": "ipython",
    "version": 3
   },
   "file_extension": ".py",
   "mimetype": "text/x-python",
   "name": "python",
   "nbconvert_exporter": "python",
   "pygments_lexer": "ipython3",
   "version": "3.7.6"
  }
 },
 "nbformat": 4,
 "nbformat_minor": 4
}
